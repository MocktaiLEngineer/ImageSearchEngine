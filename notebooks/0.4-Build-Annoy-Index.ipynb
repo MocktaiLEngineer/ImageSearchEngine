{
 "cells": [
  {
   "cell_type": "code",
   "execution_count": 2,
   "id": "91612e38",
   "metadata": {},
   "outputs": [],
   "source": [
    "import pandas as pd\n",
    "from Config import Config as config"
   ]
  },
  {
   "cell_type": "code",
   "execution_count": 4,
   "id": "a892e989",
   "metadata": {},
   "outputs": [],
   "source": [
    "df = pd.read_pickle(f'../models/{config.embedding_size}-Image-Embeddings.pkl')"
   ]
  },
  {
   "cell_type": "code",
   "execution_count": 8,
   "id": "1f2a16bc",
   "metadata": {},
   "outputs": [
    {
     "data": {
      "text/plain": [
       "True"
      ]
     },
     "execution_count": 8,
     "metadata": {},
     "output_type": "execute_result"
    }
   ],
   "source": [
    "from annoy import AnnoyIndex\n",
    "f = len(df['embeddings'][0])\n",
    "t = AnnoyIndex(f, metric='euclidean')\n",
    "\n",
    "ntree = 500 # hyper-parameter, the more the number of trees better the prediction\n",
    "for i, vector in enumerate(df['embeddings']):\n",
    "    t.add_item(i, vector)\n",
    "_  = t.build(ntree)\n",
    "\n",
    "t.save('../models/embeddings.ann')"
   ]
  },
  {
   "cell_type": "code",
   "execution_count": 10,
   "id": "8fd85bdf",
   "metadata": {},
   "outputs": [
    {
     "data": {
      "text/plain": [
       "[0, 97766, 35636, 48870, 81591]"
      ]
     },
     "execution_count": 10,
     "metadata": {},
     "output_type": "execute_result"
    }
   ],
   "source": [
    "u = AnnoyIndex(f, 'euclidean')\n",
    "u.load('../models/embeddings.ann')"
   ]
  },
  {
   "cell_type": "code",
   "execution_count": null,
   "id": "1d93013c",
   "metadata": {},
   "outputs": [],
   "source": [
    "import time\n",
    "def get_similar_images_annoy(img_index):\n",
    "    start = time.time()\n",
    "    base_img_id, base_vector, base_label  = df.iloc[img_index, [0,-1,4]]\n",
    "    similar_img_ids = t.get_nns_by_item(img_index, 5)\n",
    "    end = time.time()\n",
    "    print(f'{(end - start) * 1000} ms')\n",
    "    return base_img_id, base_label, df.iloc[similar_img_ids]"
   ]
  }
 ],
 "metadata": {
  "kernelspec": {
   "display_name": "Python 3 (ipykernel)",
   "language": "python",
   "name": "python3"
  },
  "language_info": {
   "codemirror_mode": {
    "name": "ipython",
    "version": 3
   },
   "file_extension": ".py",
   "mimetype": "text/x-python",
   "name": "python",
   "nbconvert_exporter": "python",
   "pygments_lexer": "ipython3",
   "version": "3.10.8"
  }
 },
 "nbformat": 4,
 "nbformat_minor": 5
}
